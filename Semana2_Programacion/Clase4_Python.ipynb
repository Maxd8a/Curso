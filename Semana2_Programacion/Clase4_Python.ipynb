{
 "cells": [
  {
   "cell_type": "markdown",
   "id": "ee73de1c",
   "metadata": {},
   "source": [
    "# <span style=\"font-family:Georgia; text-align:center;\">Cadenas (strings) en Python</span> \n",
    "<span style=\"font-family:Georgia;\">\n",
    "\n",
    "## ¿Qué es una cadena?\n",
    "Una **cadena** (`str`) es una **secuencia inmutable** de caracteres Unicode.  \n",
    "\n",
    "## Operaciones básicas\n",
    "- Longitud: ``len(s)``  \n",
    "- Concatenación: ``s + t``  \n",
    "- Repetición: ``s * k``  \n",
    "- Pertenencia: ``\"a\" in s``  \n",
    "- Indexación: ``s[i]``; Slicing: ``s[i:j:k]``"
   ]
  },
  {
   "cell_type": "code",
   "execution_count": 7,
   "id": "ce39b44e",
   "metadata": {},
   "outputs": [
    {
     "data": {
      "text/plain": [
       "4"
      ]
     },
     "execution_count": 7,
     "metadata": {},
     "output_type": "execute_result"
    }
   ],
   "source": [
    "s = \"Hola\"\n",
    "len(s)        # 4"
   ]
  },
  {
   "cell_type": "code",
   "execution_count": 8,
   "id": "b9ab3ad3",
   "metadata": {},
   "outputs": [
    {
     "data": {
      "text/plain": [
       "'Hola Mundo'"
      ]
     },
     "execution_count": 8,
     "metadata": {},
     "output_type": "execute_result"
    }
   ],
   "source": [
    "s + \" Mundo\"  # \"Hola Mundo\""
   ]
  },
  {
   "cell_type": "code",
   "execution_count": 9,
   "id": "60411337",
   "metadata": {},
   "outputs": [
    {
     "data": {
      "text/plain": [
       "'HolaHolaHola'"
      ]
     },
     "execution_count": 9,
     "metadata": {},
     "output_type": "execute_result"
    }
   ],
   "source": [
    "s * 3         # \"HolaHolaHola\""
   ]
  },
  {
   "cell_type": "code",
   "execution_count": null,
   "id": "8ceff766",
   "metadata": {},
   "outputs": [
    {
     "data": {
      "text/plain": [
       "True"
      ]
     },
     "execution_count": 10,
     "metadata": {},
     "output_type": "execute_result"
    }
   ],
   "source": [
    "\"a\" in s      # True"
   ]
  },
  {
   "cell_type": "code",
   "execution_count": 11,
   "id": "7095f534",
   "metadata": {},
   "outputs": [
    {
     "data": {
      "text/plain": [
       "'ola'"
      ]
     },
     "execution_count": 11,
     "metadata": {},
     "output_type": "execute_result"
    }
   ],
   "source": [
    "s[1:4]        # \"ola\""
   ]
  },
  {
   "cell_type": "markdown",
   "id": "c9ed5e70",
   "metadata": {},
   "source": [
    "<span style=\"font-family:Georgia;\">\n",
    "\n",
    "## Limpieza y normalización\n",
    "- Quitar espacios: ``s.strip()``, ``s.lstrip()``, `s.rstrip()`\n",
    "\n",
    "- Mayúsculas/minúsculas: `s.lower()`, `s.upper()`, `s.capitalize()`, `s.title()`, `s.swapcase()`\n",
    "\n",
    "- Reemplazos: `s.replace(viejo, nuevo, conteo_opcional)`"
   ]
  },
  {
   "cell_type": "code",
   "execution_count": 12,
   "id": "9545e49a",
   "metadata": {},
   "outputs": [
    {
     "data": {
      "text/plain": [
       "'hola'"
      ]
     },
     "execution_count": 12,
     "metadata": {},
     "output_type": "execute_result"
    }
   ],
   "source": [
    "\"  hola  \".strip()        # \"hola\"\n"
   ]
  },
  {
   "cell_type": "code",
   "execution_count": 13,
   "id": "7b431f02",
   "metadata": {},
   "outputs": [
    {
     "data": {
      "text/plain": [
       "'PYTHON'"
      ]
     },
     "execution_count": 13,
     "metadata": {},
     "output_type": "execute_result"
    }
   ],
   "source": [
    "\"python\".upper()          # \"PYTHON\""
   ]
  },
  {
   "cell_type": "code",
   "execution_count": 14,
   "id": "4b9c53ee",
   "metadata": {},
   "outputs": [
    {
     "data": {
      "text/plain": [
       "'Hola Mundo'"
      ]
     },
     "execution_count": 14,
     "metadata": {},
     "output_type": "execute_result"
    }
   ],
   "source": [
    "\"hola mundo\".title()      # \"Hola Mundo\""
   ]
  },
  {
   "cell_type": "code",
   "execution_count": 15,
   "id": "2fac66c8",
   "metadata": {},
   "outputs": [
    {
     "data": {
      "text/plain": [
       "'xxaa'"
      ]
     },
     "execution_count": 15,
     "metadata": {},
     "output_type": "execute_result"
    }
   ],
   "source": [
    "\"aaaa\".replace(\"a\", \"x\", 2)  # \"xxaa\""
   ]
  },
  {
   "cell_type": "markdown",
   "id": "cff4a9ca",
   "metadata": {},
   "source": [
    "<span style=\"font-family:Georgia;\">\n",
    "\n",
    "## Slicing detallado $s[i:j:k]$\n",
    "\n",
    "- $i$ por defecto $0$; $j$ por defecto $n$; $k$ por defecto $1$.\n",
    "\n",
    "- Subcadenas con paso: `s[::2]` toma caracteres en posiciones pares.\n",
    "\n",
    "- Reversa: `s[::-1]`."
   ]
  },
  {
   "cell_type": "code",
   "execution_count": 1,
   "id": "e0089172",
   "metadata": {},
   "outputs": [
    {
     "data": {
      "text/plain": [
       "'cde'"
      ]
     },
     "execution_count": 1,
     "metadata": {},
     "output_type": "execute_result"
    }
   ],
   "source": [
    "s = \"abcdefg\"\n",
    "s[2:5]    # \"cde\""
   ]
  },
  {
   "cell_type": "code",
   "execution_count": 2,
   "id": "72ed6115",
   "metadata": {},
   "outputs": [
    {
     "data": {
      "text/plain": [
       "'abcd'"
      ]
     },
     "execution_count": 2,
     "metadata": {},
     "output_type": "execute_result"
    }
   ],
   "source": [
    "s[:4]     # \"abcd\""
   ]
  },
  {
   "cell_type": "code",
   "execution_count": 5,
   "id": "8a81ec1d",
   "metadata": {},
   "outputs": [
    {
     "data": {
      "text/plain": [
       "'abcdefg'"
      ]
     },
     "execution_count": 5,
     "metadata": {},
     "output_type": "execute_result"
    }
   ],
   "source": [
    "s[:]"
   ]
  },
  {
   "cell_type": "code",
   "execution_count": 3,
   "id": "f2f0b8d0",
   "metadata": {},
   "outputs": [
    {
     "data": {
      "text/plain": [
       "'aceg'"
      ]
     },
     "execution_count": 3,
     "metadata": {},
     "output_type": "execute_result"
    }
   ],
   "source": [
    "s[::2]    # \"aceg\""
   ]
  },
  {
   "cell_type": "code",
   "execution_count": 5,
   "id": "71a4af36",
   "metadata": {},
   "outputs": [
    {
     "data": {
      "text/plain": [
       "'gfedcba'"
      ]
     },
     "execution_count": 5,
     "metadata": {},
     "output_type": "execute_result"
    }
   ],
   "source": [
    "s[::-1]   # \"gfedcba\""
   ]
  },
  {
   "cell_type": "code",
   "execution_count": null,
   "id": "34d17706",
   "metadata": {},
   "outputs": [
    {
     "data": {
      "text/plain": [
       "'abcde'"
      ]
     },
     "execution_count": 7,
     "metadata": {},
     "output_type": "execute_result"
    }
   ],
   "source": [
    "s[-2]"
   ]
  },
  {
   "cell_type": "markdown",
   "id": "fb9361a7",
   "metadata": {},
   "source": [
    "<span style=\"font-family:Georgia;\">\n",
    "\n",
    "## División y unión\n",
    "- Dividir por separador: `s.split(sep=None, maxsplit=-1)`\n",
    "\n",
    "- Dividir por líneas: `s.splitlines(keepends=False)`\n",
    "\n",
    "- Particionar en 3 partes: `s.partition(sep)`, `s.rpartition(sep)`\n",
    "\n",
    "- Unir con separador: `sep.join(iterable_de_cadenas)`"
   ]
  },
  {
   "cell_type": "code",
   "execution_count": 16,
   "id": "3256bb3a",
   "metadata": {},
   "outputs": [
    {
     "data": {
      "text/plain": [
       "['uno', 'dos', 'tres']"
      ]
     },
     "execution_count": 16,
     "metadata": {},
     "output_type": "execute_result"
    }
   ],
   "source": [
    "\"uno,dos,tres\".split(\",\")           # [\"uno\",\"dos\",\"tres\"]"
   ]
  },
  {
   "cell_type": "code",
   "execution_count": 17,
   "id": "0bf6e6e9",
   "metadata": {},
   "outputs": [
    {
     "data": {
      "text/plain": [
       "['uno', 'dos']"
      ]
     },
     "execution_count": 17,
     "metadata": {},
     "output_type": "execute_result"
    }
   ],
   "source": [
    "\"uno\\ndos\".splitlines()             # [\"uno\",\"dos\"]"
   ]
  },
  {
   "cell_type": "code",
   "execution_count": 18,
   "id": "403abd4a",
   "metadata": {},
   "outputs": [
    {
     "data": {
      "text/plain": [
       "('ruta', '/', 'archivo.txt')"
      ]
     },
     "execution_count": 18,
     "metadata": {},
     "output_type": "execute_result"
    }
   ],
   "source": [
    "\"ruta/archivo.txt\".rpartition(\"/\")  # (\"ruta\", \"/\", \"archivo.txt\")"
   ]
  },
  {
   "cell_type": "code",
   "execution_count": 19,
   "id": "88a9d839",
   "metadata": {},
   "outputs": [
    {
     "data": {
      "text/plain": [
       "'2025-08-12'"
      ]
     },
     "execution_count": 19,
     "metadata": {},
     "output_type": "execute_result"
    }
   ],
   "source": [
    "\"-\".join([\"2025\",\"08\",\"12\"])        # \"2025-08-12\""
   ]
  },
  {
   "cell_type": "markdown",
   "id": "dccc4078",
   "metadata": {},
   "source": [
    "## <span style=\"font-family:Georgia; text-align:center;\">Ejercicios</span> \n",
    "\n",
    "Resuelve los siguientes problemas haciendo:\n",
    "- Diagrama de flujo\n",
    "- Pseudocódigo\n",
    "- Código en Python"
   ]
  },
  {
   "cell_type": "markdown",
   "id": "4ae3c9d8",
   "metadata": {},
   "source": [
    "## <span style=\"font-family:Georgia; text-align:center;\">Ejercicio 1: Contador de vocales</span> \n",
    "<span style=\"font-family:Georgia;\">\n",
    "\n",
    "**Descripción.** Dada una cadena, contar cuántas vocales contiene (a, e, i, o, u), ignorando mayúsculas/minúsculas.\n",
    "\n",
    "**Entradas/Salidas.** entrada $\\to$ `str`; salida $\\to$ `int`.\n",
    "\n",
    "**Pruebas de ejemplo.**\n",
    "- “Hola Mundo” $\\to 4$\n",
    "- “” $\\to 0$\n",
    "- “xyz” $\\to 0$\n",
    "\n",
    "**Requisitos.** No usar directamente `sum(c in ... for c in s)`."
   ]
  },
  {
   "cell_type": "markdown",
   "id": "8f33fd44",
   "metadata": {},
   "source": [
    "## <span style=\"font-family:Georgia; text-align:center;\">Ejercicio 2: Máximo de una lista</span> \n",
    "\n",
    "**Descripción.** Leer $N$ y luego $N$ números; devolver el máximo sin usar `max()`.\n",
    "\n",
    "**Entradas/Salidas.** entrada $\\to$ $N\\in\\mathbb{N}$ y luego $x_1,\\dots,x_N$; salida $\\to$ $\\max\\{x_i\\}$.\n",
    "\n",
    "**Pruebas de ejemplo.**\n",
    "- $N=5$, $[3,-1,7,7,2]\\to 7$\n",
    "\n",
    "**Requisitos.** No usar directamente `max()`."
   ]
  },
  {
   "cell_type": "markdown",
   "id": "eddd4fb3",
   "metadata": {},
   "source": [
    "## <span style=\"font-family:Georgia; text-align:center;\">Ejercicio 3: Validación de contraseña simple</span> \n",
    "\n",
    "**Descripción.** Validar que una contraseña tenga al menos $8$ caracteres, al menos una mayúscula y al menos un dígito.\n",
    "\n",
    "**Entradas/Salidas.** entrada $\\to$ `str`; salida $\\to$ `bool` o mensaje “válida / inválida”.\n",
    "\n",
    "\n",
    "**Pruebas de ejemplo.**\n",
    "- “Abcdef12” $\\to$ válida\n",
    "- “abcdef12” $\\to$ inválida (sin mayúscula)\n",
    "\n",
    "**Extensión.** Devolver lista de reglas incumplidas.\n"
   ]
  },
  {
   "cell_type": "markdown",
   "id": "10f85fbb",
   "metadata": {},
   "source": [
    "## <span style=\"font-family:Georgia; text-align:center;\">Ejercicio 4: Conversor base 10 a base b (con 1< b< 17)</span> \n",
    "\n",
    "\n",
    "**Descripción.** Convertir un entero no negativo $n$ en su representación en base $b$.\n",
    "\n",
    "**Entradas/Salidas.** entrada $\\to$ $n\\in\\mathbb{Z}_{\\ge 0}$, $b\\in\\{2,\\dots,16\\}$; salida $\\to$ `str` con dígitos $0$–$9$ y $A$–$F$.\n",
    "\n",
    "**Pruebas de ejemplo.**\n",
    "- $(255,16)\\to\\text{\"FF\"}$\n",
    "- $(13,2)\\to\\text{\"1101\"}$\n",
    "\n",
    "**Idea clave.** Repetir: obtener residuo $r=n\\bmod b$, dividir $n\\leftarrow \\lfloor n/b\\rfloor$, acumular dígitos y al final invertir.\n",
    "\n",
    "\n",
    "**Pistas para el diagrama de flujo.**\n",
    "- Inicio\n",
    "- Leer $n,b$\n",
    "- Validar $b$ y $n$\n",
    "- Caso $n=0$ → devolver “0”\n",
    "- Mientras $n>0$:\n",
    "  - Calcular $r=n\\bmod b$\n",
    "  - Mapear $r$ a carácter\n",
    "  - Agregar a lista de dígitos\n",
    "  - Actualizar $n\\leftarrow \\lfloor n/b\\rfloor$\n",
    "- Invertir y unir dígitos\n",
    "- Imprimir resultado\n",
    "- Fin\n"
   ]
  }
 ],
 "metadata": {
  "kernelspec": {
   "display_name": "Python 3",
   "language": "python",
   "name": "python3"
  },
  "language_info": {
   "codemirror_mode": {
    "name": "ipython",
    "version": 3
   },
   "file_extension": ".py",
   "mimetype": "text/x-python",
   "name": "python",
   "nbconvert_exporter": "python",
   "pygments_lexer": "ipython3",
   "version": "3.9.13"
  }
 },
 "nbformat": 4,
 "nbformat_minor": 5
}
